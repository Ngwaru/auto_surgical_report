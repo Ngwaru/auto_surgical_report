{
 "cells": [
  {
   "cell_type": "code",
   "execution_count": null,
   "id": "55f41c95",
   "metadata": {},
   "outputs": [
    {
     "name": "stderr",
     "output_type": "stream",
     "text": [
      "c:\\Users\\munod\\OneDrive\\Documents\\Projects\\auto_surgical_report\\surg_venv\\Lib\\site-packages\\tqdm\\auto.py:21: TqdmWarning: IProgress not found. Please update jupyter and ipywidgets. See https://ipywidgets.readthedocs.io/en/stable/user_install.html\n",
      "  from .autonotebook import tqdm as notebook_tqdm\n",
      "Fetching 2 files:   0%|          | 0/2 [00:00<?, ?it/s]Xet Storage is enabled for this repo, but the 'hf_xet' package is not installed. Falling back to regular HTTP download. For better performance, install the package with: `pip install huggingface_hub[hf_xet]` or `pip install hf_xet`\n",
      "Xet Storage is enabled for this repo, but the 'hf_xet' package is not installed. Falling back to regular HTTP download. For better performance, install the package with: `pip install huggingface_hub[hf_xet]` or `pip install hf_xet`\n",
      "c:\\Users\\munod\\OneDrive\\Documents\\Projects\\auto_surgical_report\\surg_venv\\Lib\\site-packages\\huggingface_hub\\file_download.py:143: UserWarning: `huggingface_hub` cache-system uses symlinks by default to efficiently store duplicated files but your machine does not support them in C:\\Users\\munod\\.cache\\huggingface\\hub\\models--Qwen--Qwen2.5-3B-Instruct. Caching files will still work but in a degraded version that might require more space on your disk. This warning can be disabled by setting the `HF_HUB_DISABLE_SYMLINKS_WARNING` environment variable. For more details, see https://huggingface.co/docs/huggingface_hub/how-to-cache#limitations.\n",
      "To support symlinks on Windows, you either need to activate Developer Mode or to run Python as an administrator. In order to activate developer mode, see this article: https://docs.microsoft.com/en-us/windows/apps/get-started/enable-your-device-for-development\n",
      "  warnings.warn(message)\n",
      "Fetching 2 files: 100%|██████████| 2/2 [02:54<00:00, 87.25s/it] \n",
      "Loading checkpoint shards: 100%|██████████| 2/2 [00:00<00:00,  9.52it/s]\n",
      "Device set to use cpu\n"
     ]
    },
    {
     "name": "stdout",
     "output_type": "stream",
     "text": [
      "[{'generated_text': 'What is Truvada? Truvada (tenofovir disoproxil fumarate and emtricitabine) is a combination antiretroviral medication used to prevent HIV infection in people who are at high risk of exposure. It is approved for use in adults and adolescents aged 12 years or older.\\nHow does Truvada work? Truvada works by preventing the virus from multiplying in the body. It contains two active ingredients, tenofovir and emtricitabine, which work together to block the virus from infecting new cells.\\nWhat are the potential side effects of Truvada? The most common side effects of Truvada include nausea, headache, diarrhea, and abdominal pain. Less common side effects may include liver problems, kidney damage, and bone loss. In rare cases, Truvada has been associated with an increased risk of kidney stones and pancreatitis.\\nCan Truvada be taken with other medications? Truvada can be taken with other medications, but it is important to consult with a healthcare provider before starting any new medications, as some drugs may interact with Truvada.\\nAre there any precautions I should take when taking Truvada? Yes, there are several precautions to keep in mind when taking Truvada'}]\n"
     ]
    }
   ],
   "source": [
    "from transformers import pipeline\n",
    "from datasets import load_dataset\n",
    "from transformers import AutoTokenizer\n",
    "\n",
    "\n",
    "model_pipeline = pipeline(\n",
    "    model = \"Qwen/Qwen2.5-3B-Instruct\",\n",
    "    # device = \"cuda\"\n",
    ")\n",
    "\n",
    "\n",
    "print(model_pipeline(\"What is Truvada?\"))"
   ]
  },
  {
   "cell_type": "code",
   "execution_count": 2,
   "id": "a3cfe127",
   "metadata": {},
   "outputs": [
    {
     "name": "stdout",
     "output_type": "stream",
     "text": [
      "What is Truvada? Truvada is a drug that contains two antiretroviral medications, emtricitabine and tenofovir disoproxil fumarate. It can be used to prevent HIV infection in people who are at high risk for contracting the virus. Truvada may also be used to treat people with HIV.\n",
      "How does Truvada work? Truvada works by preventing the human immunodeficiency virus (HIV) from multiplying in the body. When HIV infects an individual, it attaches to immune cells and begins to reproduce. As it reproduces, the virus damages or kills the infected cells. Over time, this process weakens the immune system, making the person more susceptible to illnesses.\n",
      "Truvada prevents HIV from entering immune cells. Once inside, the virus can no longer multiply. This reduces the amount of virus in the blood and lowers the chance of transmitting the virus to others.\n",
      "Is Truvada safe? Yes, Truvada has been shown to be safe and effective when used as directed. However, like all medications, Truvada can have side effects. Some common side effects include nausea, diarrhea, headache, and fatigue. In rare cases, Truvada has been associated with kidney problems and liver damage.\n",
      "When\n"
     ]
    }
   ],
   "source": [
    "print(model_pipeline(\"What is Truvada?\")[0]['generated_text'])"
   ]
  },
  {
   "cell_type": "code",
   "execution_count": null,
   "id": "9931a28e",
   "metadata": {},
   "outputs": [],
   "source": [
    "\n",
    "\n",
    "tokenizer = AutoTokenizer.from_pretrained(\n",
    "    \"Qwen/Qwen2.5-3B-Instruct\"\n",
    ")"
   ]
  },
  {
   "cell_type": "code",
   "execution_count": null,
   "id": "6256c53d",
   "metadata": {},
   "outputs": [
    {
     "name": "stderr",
     "output_type": "stream",
     "text": [
      "Generating train split: 2 examples [00:00, 54.96 examples/s]\n"
     ]
    }
   ],
   "source": [
    "\n",
    "\n",
    "train_data = load_dataset(\"json\", data_files=\"training_data.json\")"
   ]
  },
  {
   "cell_type": "code",
   "execution_count": 4,
   "id": "6a3df819",
   "metadata": {},
   "outputs": [
    {
     "data": {
      "text/plain": [
       "DatasetDict({\n",
       "    train: Dataset({\n",
       "        features: ['prompt', 'completion'],\n",
       "        num_rows: 2\n",
       "    })\n",
       "})"
      ]
     },
     "execution_count": 4,
     "metadata": {},
     "output_type": "execute_result"
    }
   ],
   "source": [
    "train_data"
   ]
  },
  {
   "cell_type": "code",
   "execution_count": null,
   "id": "bf100e97",
   "metadata": {},
   "outputs": [],
   "source": []
  }
 ],
 "metadata": {
  "kernelspec": {
   "display_name": "surg_venv",
   "language": "python",
   "name": "python3"
  },
  "language_info": {
   "codemirror_mode": {
    "name": "ipython",
    "version": 3
   },
   "file_extension": ".py",
   "mimetype": "text/x-python",
   "name": "python",
   "nbconvert_exporter": "python",
   "pygments_lexer": "ipython3",
   "version": "3.13.3"
  }
 },
 "nbformat": 4,
 "nbformat_minor": 5
}
